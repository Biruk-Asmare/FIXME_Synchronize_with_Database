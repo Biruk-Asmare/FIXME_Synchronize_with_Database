{
 "cells": [
  {
   "cell_type": "code",
   "execution_count": null,
   "metadata": {},
   "outputs": [],
   "source": [
    "import pandas as pd\n",
    "from random import sample\n",
    "import math"
   ]
  },
  {
   "cell_type": "code",
   "execution_count": null,
   "metadata": {},
   "outputs": [],
   "source": [
    "#some exploration remove me\n",
    "\n",
    "tdf= pd.read_csv(\"DAC_SQL_dataset_NoDuplicates_Classified_linked.csv\")\n",
    "tdf[\"group\"]=\"sql\"\n",
    "ndf= pd.read_csv(\"DAC_NOSQL_dataset_NoDuplicates_Classified_linked.csv\")\n",
    "ndf[\"group\"]=\"nosql\"\n",
    "df=  pd.concat([tdf,ndf],ignore_index=True)\n",
    "df['id'] = df.index\n",
    "df.head()"
   ]
  },
  {
   "cell_type": "code",
   "execution_count": null,
   "metadata": {},
   "outputs": [],
   "source": [
    "tdf.info()"
   ]
  },
  {
   "cell_type": "code",
   "execution_count": null,
   "metadata": {},
   "outputs": [],
   "source": [
    "ndf.info()"
   ]
  },
  {
   "cell_type": "code",
   "execution_count": null,
   "metadata": {},
   "outputs": [],
   "source": [
    "#drop not needed columns\n",
    "df=df.drop(columns=[\"path\",\"clean_comments\",\"sha\"])"
   ]
  },
  {
   "cell_type": "code",
   "execution_count": null,
   "metadata": {},
   "outputs": [],
   "source": [
    "df.tail()"
   ]
  },
  {
   "cell_type": "code",
   "execution_count": null,
   "metadata": {},
   "outputs": [],
   "source": [
    "df[\"selected\"]=False"
   ]
  },
  {
   "cell_type": "code",
   "execution_count": null,
   "metadata": {},
   "outputs": [],
   "source": [
    "df.head()"
   ]
  },
  {
   "cell_type": "code",
   "execution_count": null,
   "metadata": {},
   "outputs": [],
   "source": [
    "def remove_space (value):\n",
    "    return value.strip()\n",
    "df[\"comment\"]=df[\"comment\"].apply(remove_space)\n",
    "df[\"id_comm\"]=\"\"+df[\"file_id\"]+\";\"+df[\"comment\"]\n",
    "df[\"id_comm\"]=df[\"id_comm\"].apply(remove_space)\n",
    "df.head(1)"
   ]
  },
  {
   "cell_type": "code",
   "execution_count": null,
   "metadata": {},
   "outputs": [],
   "source": [
    "#mark aready labeled data\n",
    "labeled=pd.read_csv(\"selected_data.csv\")\n",
    "labeled.head()\n",
    "labeled[\"id_comm\"]=\"\"+labeled[\"file_id\"]+\";\"+labeled[\"comment\"]\n",
    "labeled.info()\n",
    "labeled.head()\n",
    "classified_list= labeled[\"id_comm\"].tolist()"
   ]
  },
  {
   "cell_type": "code",
   "execution_count": null,
   "metadata": {},
   "outputs": [],
   "source": [
    "classified_list"
   ]
  },
  {
   "cell_type": "code",
   "execution_count": null,
   "metadata": {},
   "outputs": [],
   "source": [
    "def set_labeld(value, classified_list):\n",
    "    tks= value.split(\";\")\n",
    "    for row in classified_list:\n",
    "        if tks[0] in row:\n",
    "            if tks[1].strip() in row:\n",
    "                print(tks[0]+\"::::\"+ tks[1])\n",
    "                return True\n",
    "    return False"
   ]
  },
  {
   "cell_type": "code",
   "execution_count": null,
   "metadata": {},
   "outputs": [],
   "source": [
    "df[\"selected\"]=False\n",
    "df[\"selected\"]= df[\"id_comm\"].apply(set_labeld, args=(classified_list,))"
   ]
  },
  {
   "cell_type": "code",
   "execution_count": null,
   "metadata": {},
   "outputs": [],
   "source": [
    "t=df[df[\"selected\"]==True]"
   ]
  },
  {
   "cell_type": "code",
   "execution_count": null,
   "metadata": {
    "scrolled": true
   },
   "outputs": [],
   "source": [
    "t.head(10)"
   ]
  },
  {
   "cell_type": "code",
   "execution_count": null,
   "metadata": {},
   "outputs": [],
   "source": [
    "df.head()"
   ]
  },
  {
   "cell_type": "code",
   "execution_count": null,
   "metadata": {},
   "outputs": [],
   "source": [
    "#sample from the sql group\n",
    "tdf= df[(df[\"group\"]==\"sql\") & (df[\"selected\"]==False)]\n",
    "tdf.info()"
   ]
  },
  {
   "cell_type": "code",
   "execution_count": null,
   "metadata": {},
   "outputs": [],
   "source": [
    "\n",
    "stopic_counts=tdf.groupby([\"topic\"]).size().reset_index(name='counts')\n",
    "stopic_counts=stopic_counts.sort_values(by=['counts'], ascending=False)\n",
    "#len(topic_counts.index)375,16479\n",
    "\n",
    "def compute_strata_sample(strata_size,total_sample,total_population):\n",
    "    return math.ceil ((strata_size*total_sample)/(total_population))\n",
    "stopic_counts[\"strata_sample_size\"]=stopic_counts[\"counts\"].apply(compute_strata_sample,args=(173,4574))\n",
    "stopic_counts[\"topic_size\"]=stopic_counts[\"topic\"].astype(str)+\":\"+stopic_counts[\"strata_sample_size\"].astype(str)\n",
    "stopic_counts"
   ]
  },
  {
   "cell_type": "code",
   "execution_count": null,
   "metadata": {},
   "outputs": [],
   "source": [
    "#define a function that picks a sample\n",
    "def pick_random_samples_per_topic(topic, df,sampleSize):\n",
    "    indexes=df[df[\"topic\"]==topic].index.tolist()\n",
    "    return sample(indexes,sampleSize)"
   ]
  },
  {
   "cell_type": "code",
   "execution_count": null,
   "metadata": {},
   "outputs": [],
   "source": [
    "topic_groups= stopic_counts[\"topic_size\"].tolist()\n",
    "sql_sampled_indexes=[]\n",
    "for topic_size in topic_groups:\n",
    "    tks=topic_size.split(\":\")\n",
    "    sql_sampled_indexes.extend(pick_random_samples_per_topic(int(tks[0]),tdf,int(tks[1])))"
   ]
  },
  {
   "cell_type": "code",
   "execution_count": null,
   "metadata": {},
   "outputs": [],
   "source": [
    "\n",
    "sample_tdf=tdf[tdf.index.isin(sql_sampled_indexes)]\n",
    "sample_tdf.info()"
   ]
  },
  {
   "cell_type": "code",
   "execution_count": null,
   "metadata": {},
   "outputs": [],
   "source": [
    "#mark the picked values as selected in the main dataset\n",
    "for id in sample_tdf[\"id\"].tolist():\n",
    "    df.loc[df[\"id\"]==id, 'selected'] = True\n",
    "t=df[df[\"selected\"]==True]"
   ]
  },
  {
   "cell_type": "code",
   "execution_count": null,
   "metadata": {},
   "outputs": [],
   "source": [
    "sample_tdf.info()"
   ]
  },
  {
   "cell_type": "code",
   "execution_count": null,
   "metadata": {},
   "outputs": [],
   "source": [
    "#combine this to nosql shuffle it and save it.\n",
    "sample_tdf.to_csv(\"RQ2_SQL_Manual_Analysis_Samples_Moses.csv\", index=None)"
   ]
  },
  {
   "cell_type": "code",
   "execution_count": null,
   "metadata": {},
   "outputs": [],
   "source": [
    "#box plot of topics\n",
    "topic_counts.to_csv(\"SQL_topic_Model_Dist.csv\", index=None)"
   ]
  },
  {
   "cell_type": "code",
   "execution_count": null,
   "metadata": {},
   "outputs": [],
   "source": [
    "tdf[tdf[\"topic\"]==35]"
   ]
  },
  {
   "cell_type": "markdown",
   "metadata": {},
   "source": [
    "<h1>NOSQL</h1>"
   ]
  },
  {
   "cell_type": "code",
   "execution_count": null,
   "metadata": {},
   "outputs": [],
   "source": [
    "#sample from the sql group\n",
    "ndf= df[(df[\"group\"]==\"nosql\") & (df[\"selected\"]==False)]\n",
    "ndf.info()"
   ]
  },
  {
   "cell_type": "code",
   "execution_count": null,
   "metadata": {},
   "outputs": [],
   "source": [
    "ntopic_counts=ndf.groupby([\"topic\"]).size().reset_index(name='counts')\n",
    "ntopic_counts=ntopic_counts.sort_values(by=['counts'], ascending=False)\n",
    "#len(topic_counts.index)\n",
    "\n",
    "ntopic_counts[\"strata_sample_size\"]=ntopic_counts[\"counts\"].apply(compute_strata_sample,args=(175,433))\n",
    "ntopic_counts"
   ]
  },
  {
   "cell_type": "code",
   "execution_count": null,
   "metadata": {},
   "outputs": [],
   "source": [
    "ntopic_counts[\"topic_size\"]=ntopic_counts[\"topic\"].astype(str)+\":\"+ntopic_counts[\"strata_sample_size\"].astype(str)\n",
    "ntopic_counts"
   ]
  },
  {
   "cell_type": "code",
   "execution_count": null,
   "metadata": {},
   "outputs": [],
   "source": [
    "ntopic_groups= ntopic_counts[\"topic_size\"].tolist()\n",
    "nsql_sampled_indexes=[]\n",
    "for topic_size in ntopic_groups:\n",
    "    tks=topic_size.split(\":\")\n",
    "    nsql_sampled_indexes.extend(pick_random_samples_per_topic(int(tks[0]),ndf,int(tks[1])))\n",
    "len(nsql_sampled_indexes)"
   ]
  },
  {
   "cell_type": "code",
   "execution_count": null,
   "metadata": {},
   "outputs": [],
   "source": [
    "nsample_tdf=ndf[ndf.index.isin(nsql_sampled_indexes)]"
   ]
  },
  {
   "cell_type": "code",
   "execution_count": null,
   "metadata": {},
   "outputs": [],
   "source": [
    "#mark the picked values as selected in the main dataset\n",
    "for id in nsample_tdf[\"id\"].tolist():\n",
    "    df.loc[df[\"id\"]==id, 'selected'] = True\n",
    "t=df[df[\"selected\"]==True]\n",
    "t.info()"
   ]
  },
  {
   "cell_type": "code",
   "execution_count": null,
   "metadata": {},
   "outputs": [],
   "source": [
    "#Now save the source dataset\n",
    "df.info()\n",
    "df=df.drop(columns=[\"id_comm\"])\n",
    "df.to_csv(\"RQ2_Combined_Base_Dataset_For_Sampling.csv\", index=False)"
   ]
  },
  {
   "cell_type": "code",
   "execution_count": null,
   "metadata": {},
   "outputs": [],
   "source": [
    "#now combine and shuffle the sampled comments\n",
    "sample_tdf.info()"
   ]
  },
  {
   "cell_type": "code",
   "execution_count": null,
   "metadata": {},
   "outputs": [],
   "source": [
    "\n",
    "sampld_combined= pd.concat([sample_tdf,nsample_tdf],ignore_index=True)\n",
    "sampld_combined.info()\n",
    "sampld_combined=sampld_combined.drop(columns=[\"project\",\"version\",\"selected\",\"id_comm\",\"topic\",\"file_id\"])\n",
    "sampld_combined.info()"
   ]
  },
  {
   "cell_type": "code",
   "execution_count": null,
   "metadata": {},
   "outputs": [],
   "source": [
    "#save the sample data to csv\n",
    "sampld_combined[\"number\"]=sampld_combined.index\n",
    "sampld_combined.to_csv(\"RQ2_Combined_Manual_Analysis_Dataset_DEC_3.csv\", index=False)"
   ]
  },
  {
   "cell_type": "code",
   "execution_count": null,
   "metadata": {},
   "outputs": [],
   "source": [
    "<h2> Make source code links for manual analysis </h2>"
   ]
  },
  {
   "cell_type": "code",
   "execution_count": null,
   "metadata": {},
   "outputs": [],
   "source": [
    "projects=pd.read_csv(\"/home/buruk/Documents/DI_STAFF/SATD/SCRIPT/satd_diss/Scripts/SQLProjects/SQL_Selected_Projects_final.csv\")\n",
    "versions=pd.read_csv(\"/home/buruk/Documents/DI_STAFF/SATD/SCRIPT/satd_diss/Scripts/SQLProjects/May_15_project_versions.csv\")\n",
    "sdf=pd.read_csv(\"DAC_SQL_dataset_final_NoDuplicates_Classified_Correct.csv\")"
   ]
  },
  {
   "cell_type": "code",
   "execution_count": null,
   "metadata": {},
   "outputs": [],
   "source": [
    "projects.head(1)"
   ]
  },
  {
   "cell_type": "code",
   "execution_count": null,
   "metadata": {},
   "outputs": [],
   "source": [
    "versions.head(2)"
   ]
  },
  {
   "cell_type": "code",
   "execution_count": null,
   "metadata": {},
   "outputs": [],
   "source": [
    "sdf.info()"
   ]
  },
  {
   "cell_type": "code",
   "execution_count": null,
   "metadata": {},
   "outputs": [],
   "source": [
    "#assign base url to each row\n",
    "def get_url(project,projects):\n",
    "    return projects[projects[\"project\"]==project][\"url\"].head(1).tolist()[0]\n",
    "def get_sha(project_version,versions):\n",
    "    tks=project_version.split(\";\")\n",
    "    return versions[(versions[\"project\"]==tks[0]) & (versions[\"version\"]==int(tks[1]))][\"sha\"].tolist()[0]\n",
    "    #print(\"{}:{}\\n\".format(project,version))"
   ]
  },
  {
   "cell_type": "code",
   "execution_count": null,
   "metadata": {},
   "outputs": [],
   "source": [
    "sdf[\"base_url\"]=sdf[\"project\"].apply(get_url, args=(projects,))"
   ]
  },
  {
   "cell_type": "code",
   "execution_count": null,
   "metadata": {},
   "outputs": [],
   "source": [
    "sdf.head()"
   ]
  },
  {
   "cell_type": "code",
   "execution_count": null,
   "metadata": {},
   "outputs": [],
   "source": [
    "sdf[\"version\"]=sdf[\"version\"].astype(str)\n",
    "sdf[\"projVersion\"]= sdf[[\"project\",\"version\"]].agg(';'.join, axis=1)\n",
    "sdf.info()"
   ]
  },
  {
   "cell_type": "code",
   "execution_count": null,
   "metadata": {},
   "outputs": [],
   "source": [
    "sdf[\"sha\"]=sdf[\"projVersion\"].apply(get_sha, args=(versions,))"
   ]
  },
  {
   "cell_type": "code",
   "execution_count": null,
   "metadata": {},
   "outputs": [],
   "source": [
    "base=sdf.head(1)[\"base_url\"].tolist()[0]\n",
    "path=sdf.head(1)[\"path\"].tolist()[0]\n",
    "sha=sdf.head(1)[\"sha\"].tolist()[0]\n",
    "base +\"/blob/\"+sha+\"/\"+path\n",
    "sdf[\"link\"]=sdf[\"base_url\"]+\"/blob/\"+sdf[\"sha\"]+\"/\"+sdf[\"path\"]"
   ]
  },
  {
   "cell_type": "code",
   "execution_count": null,
   "metadata": {},
   "outputs": [],
   "source": [
    "\n",
    "sdf=sdf.drop(columns=[\"type\",\"is_dac\",\"base_url\",\"projVersion\"])"
   ]
  },
  {
   "cell_type": "code",
   "execution_count": null,
   "metadata": {},
   "outputs": [],
   "source": [
    "sdf.info()"
   ]
  },
  {
   "cell_type": "code",
   "execution_count": null,
   "metadata": {},
   "outputs": [],
   "source": [
    "sdf.to_csv(\"DAC_SQL_dataset_final_NoDuplicates_Classified_linked_correct.csv\", index=False)"
   ]
  },
  {
   "cell_type": "code",
   "execution_count": null,
   "metadata": {},
   "outputs": [],
   "source": [
    "sdf.info()"
   ]
  },
  {
   "cell_type": "code",
   "execution_count": null,
   "metadata": {},
   "outputs": [],
   "source": [
    "sdf=sdf.drop(columns=[\"version\",\"path\",\"clean_comments\"])"
   ]
  },
  {
   "cell_type": "code",
   "execution_count": null,
   "metadata": {},
   "outputs": [],
   "source": [
    "\n",
    "sdf.head()\n",
    "sdf[\"comment\"]=sdf[\"comment\"].apply(lambda X: X.strip())\n",
    "sdf=sdf.sort_values(by=['topic'])"
   ]
  },
  {
   "cell_type": "code",
   "execution_count": null,
   "metadata": {},
   "outputs": [],
   "source": [
    "sdf.reset_index(drop=True, inplace=True)"
   ]
  },
  {
   "cell_type": "code",
   "execution_count": null,
   "metadata": {},
   "outputs": [],
   "source": [
    "sdf.head()"
   ]
  },
  {
   "cell_type": "code",
   "execution_count": null,
   "metadata": {},
   "outputs": [],
   "source": [
    "SampleSize=375 #obtained with 95% confidence interval\n",
    "sqlTotal=16479\n",
    "\n",
    "def get_sample_szie_per_topic():\n",
    "    \n"
   ]
  },
  {
   "cell_type": "code",
   "execution_count": null,
   "metadata": {},
   "outputs": [],
   "source": [
    "#code for stratified random sampling,stratified by topic\n",
    "Number_of_topics=300\n",
    "sample_indexes=[]\n",
    "empty_topics=[]\n",
    "for topic in range(0,Number_of_topics):\n",
    "    \n",
    "    indexes,count=pick_random_samples_per_topic(topic,sdf, 10)\n",
    "    if count==0:\n",
    "        empty_topics.append(topic)\n",
    "    sample_indexes.extend(indexes)\n"
   ]
  },
  {
   "cell_type": "code",
   "execution_count": null,
   "metadata": {},
   "outputs": [],
   "source": [
    "len(sample_indexes)\n",
    "#print(*sample_indexes,sep=\",\")"
   ]
  },
  {
   "cell_type": "code",
   "execution_count": null,
   "metadata": {},
   "outputs": [],
   "source": [
    "#select samples from table based on indexes\n",
    "sdf2= sdf.iloc[sample_indexes, :]\n",
    "#store the sample to csv\n",
    "sdf2.to_csv(\"RQ2_SQL_Manual_Analysis_Samples.csv\")"
   ]
  },
  {
   "cell_type": "markdown",
   "metadata": {},
   "source": []
  },
  {
   "cell_type": "markdown",
   "metadata": {},
   "source": [
    "<h2>Number of empty topics for SQL projects: 127</h2>"
   ]
  },
  {
   "cell_type": "markdown",
   "metadata": {},
   "source": [
    "<h1>NoSQL</h1>"
   ]
  },
  {
   "cell_type": "code",
   "execution_count": null,
   "metadata": {},
   "outputs": [],
   "source": [
    "projects=pd.read_csv(\"/home/buruk/Documents/DI_STAFF/SATD/SCRIPT/satd_diss/Scripts/NoSQL/Nosql_filtered_projects_ready_for_analysis.csv\")\n",
    "versions=pd.read_csv(\"/home/buruk/Documents/DI_STAFF/SATD/SCRIPT/satd_diss/Scripts/NoSQL/NoSQL_Project_versions.csv\")\n",
    "nsdf=pd.read_csv(\"DAC_NOSQL_dataset_final_NoDuplicates_Classified_correct.csv\")"
   ]
  },
  {
   "cell_type": "code",
   "execution_count": null,
   "metadata": {},
   "outputs": [],
   "source": [
    "projects.head(1)"
   ]
  },
  {
   "cell_type": "code",
   "execution_count": null,
   "metadata": {},
   "outputs": [],
   "source": [
    "versions.head(1)"
   ]
  },
  {
   "cell_type": "code",
   "execution_count": null,
   "metadata": {},
   "outputs": [],
   "source": [
    "nsdf.info()"
   ]
  },
  {
   "cell_type": "code",
   "execution_count": null,
   "metadata": {},
   "outputs": [],
   "source": [
    "nsdf.info()"
   ]
  },
  {
   "cell_type": "code",
   "execution_count": null,
   "metadata": {},
   "outputs": [],
   "source": [
    "#assign base url to each row\n",
    "def nget_url(project,projects):\n",
    "    project=\"/\".join(project.split(\"_\"))\n",
    "    return projects[projects[\"proj_name\"]==project][\"url\"].head(1).tolist()[0]\n",
    "def nget_sha(project_version,versions):\n",
    "    tks=project_version.split(\";\")\n",
    "    return versions[(versions[\"project\"]==tks[0]) & (versions[\"version\"]==int(tks[1]))][\"sha\"].tolist()[0]\n",
    "    #print(\"{}:{}\\n\".format(project,version))"
   ]
  },
  {
   "cell_type": "code",
   "execution_count": null,
   "metadata": {},
   "outputs": [],
   "source": [
    "nsdf[\"base_url\"]=nsdf[\"project\"].apply(nget_url, args=(projects,))"
   ]
  },
  {
   "cell_type": "code",
   "execution_count": null,
   "metadata": {},
   "outputs": [],
   "source": [
    "nsdf[\"version\"]=nsdf[\"version\"].astype(str)\n",
    "nsdf[\"projVersion\"]= nsdf[[\"project\",\"version\"]].agg(';'.join, axis=1)"
   ]
  },
  {
   "cell_type": "code",
   "execution_count": null,
   "metadata": {},
   "outputs": [],
   "source": [
    "nsdf[\"sha\"]=nsdf[\"projVersion\"].apply(nget_sha, args=(versions,))"
   ]
  },
  {
   "cell_type": "code",
   "execution_count": null,
   "metadata": {},
   "outputs": [],
   "source": [
    "nsdf[\"link\"]=nsdf[\"base_url\"]+\"/blob/\"+nsdf[\"sha\"]+\"/\"+nsdf[\"path\"]"
   ]
  },
  {
   "cell_type": "code",
   "execution_count": null,
   "metadata": {},
   "outputs": [],
   "source": [
    "nsdf.head()\n",
    "count_df=nsdf.groupby(['project']).count()\n",
    "count_df[\"version\"]"
   ]
  },
  {
   "cell_type": "code",
   "execution_count": null,
   "metadata": {},
   "outputs": [],
   "source": [
    "nsdf=nsdf.drop(columns=[\"type\",\"is_dac\",\"base_url\",\"projVersion\"])"
   ]
  },
  {
   "cell_type": "code",
   "execution_count": null,
   "metadata": {},
   "outputs": [],
   "source": [
    "nsdf.to_csv(\"DAC_NOSQL_dataset_final_NoDuplicates_Classified_linked_correct.csv\", index=False)"
   ]
  },
  {
   "cell_type": "code",
   "execution_count": null,
   "metadata": {},
   "outputs": [],
   "source": [
    "nsdf.info()"
   ]
  },
  {
   "cell_type": "code",
   "execution_count": null,
   "metadata": {},
   "outputs": [],
   "source": [
    "nsdf=nsdf.drop(columns=[\"version\",\"path\",\"clean_comments\"])"
   ]
  },
  {
   "cell_type": "code",
   "execution_count": null,
   "metadata": {},
   "outputs": [],
   "source": [
    "nsdf[\"comment\"]=nsdf[\"comment\"].apply(lambda X: X.strip())\n",
    "nsdf=nsdf.sort_values(by=['topic'])"
   ]
  },
  {
   "cell_type": "code",
   "execution_count": null,
   "metadata": {},
   "outputs": [],
   "source": [
    "nsdf.reset_index(drop=True, inplace=True)"
   ]
  },
  {
   "cell_type": "code",
   "execution_count": null,
   "metadata": {},
   "outputs": [],
   "source": [
    "nsdf.head()"
   ]
  },
  {
   "cell_type": "code",
   "execution_count": null,
   "metadata": {},
   "outputs": [],
   "source": [
    "#code for stratified random sampling,stratified by topic\n",
    "Number_of_topics=300\n",
    "nsample_indexes=[]\n",
    "nempty_topics=[]\n",
    "for topic in range(0,Number_of_topics):\n",
    "    \n",
    "    indexes,count=pick_random_samples_per_topic(topic,nsdf, 10)\n",
    "    if count==0:\n",
    "        nempty_topics.append(topic)\n",
    "    nsample_indexes.extend(indexes)"
   ]
  },
  {
   "cell_type": "code",
   "execution_count": null,
   "metadata": {},
   "outputs": [],
   "source": [
    "len(nsample_indexes)\n",
    "#print(*sample_indexes,sep=\",\")"
   ]
  },
  {
   "cell_type": "code",
   "execution_count": null,
   "metadata": {},
   "outputs": [],
   "source": [
    "nsdf.head()"
   ]
  },
  {
   "cell_type": "code",
   "execution_count": null,
   "metadata": {},
   "outputs": [],
   "source": [
    "#select samples from table based on indexes\n",
    "nsdf2= nsdf.iloc[nsample_indexes, :]\n",
    "#store the sample to csv\n",
    "nsdf2.to_csv(\"RQ2_NOSQL_Manual_Analysis_Samples.csv\")"
   ]
  },
  {
   "cell_type": "markdown",
   "metadata": {},
   "source": [
    "<h2>Number of empty topics for NoSQL projects: 222</h2>"
   ]
  }
 ],
 "metadata": {
  "kernelspec": {
   "display_name": "Python 3",
   "language": "python",
   "name": "python3"
  },
  "language_info": {
   "codemirror_mode": {
    "name": "ipython",
    "version": 3
   },
   "file_extension": ".py",
   "mimetype": "text/x-python",
   "name": "python",
   "nbconvert_exporter": "python",
   "pygments_lexer": "ipython3",
   "version": "3.8.5"
  }
 },
 "nbformat": 4,
 "nbformat_minor": 2
}
