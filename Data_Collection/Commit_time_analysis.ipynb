{
 "cells": [
  {
   "cell_type": "code",
   "execution_count": 1,
   "metadata": {},
   "outputs": [],
   "source": [
    "import pandas as pd\n",
    "import math"
   ]
  },
  {
   "cell_type": "markdown",
   "metadata": {},
   "source": [
    "## This notebook is used to analyze the absolute time intervales between commits for each project to get a sence of the difference in time between snapshots"
   ]
  },
  {
   "cell_type": "code",
   "execution_count": 2,
   "metadata": {},
   "outputs": [],
   "source": [
    "sql=pd.read_csv(\"SQL_project_versions.csv\")\n",
    "nsql=pd.read_csv(\"NoSQL_Project_versions.csv\")"
   ]
  },
  {
   "cell_type": "code",
   "execution_count": 3,
   "metadata": {},
   "outputs": [
    {
     "data": {
      "text/html": [
       "<div>\n",
       "<style scoped>\n",
       "    .dataframe tbody tr th:only-of-type {\n",
       "        vertical-align: middle;\n",
       "    }\n",
       "\n",
       "    .dataframe tbody tr th {\n",
       "        vertical-align: top;\n",
       "    }\n",
       "\n",
       "    .dataframe thead th {\n",
       "        text-align: right;\n",
       "    }\n",
       "</style>\n",
       "<table border=\"1\" class=\"dataframe\">\n",
       "  <thead>\n",
       "    <tr style=\"text-align: right;\">\n",
       "      <th></th>\n",
       "      <th>project</th>\n",
       "      <th>version</th>\n",
       "      <th>sha</th>\n",
       "      <th>date</th>\n",
       "    </tr>\n",
       "  </thead>\n",
       "  <tbody>\n",
       "    <tr>\n",
       "      <th>0</th>\n",
       "      <td>quran_quran_android</td>\n",
       "      <td>1</td>\n",
       "      <td>456d81b13031331a028f57a2e52c1cb0efcc74e7</td>\n",
       "      <td>2011-08-02T10:13:54+00:00</td>\n",
       "    </tr>\n",
       "  </tbody>\n",
       "</table>\n",
       "</div>"
      ],
      "text/plain": [
       "               project  version                                       sha  \\\n",
       "0  quran_quran_android        1  456d81b13031331a028f57a2e52c1cb0efcc74e7   \n",
       "\n",
       "                        date  \n",
       "0  2011-08-02T10:13:54+00:00  "
      ]
     },
     "execution_count": 3,
     "metadata": {},
     "output_type": "execute_result"
    }
   ],
   "source": [
    "sql.head(1)"
   ]
  },
  {
   "cell_type": "code",
   "execution_count": 7,
   "metadata": {},
   "outputs": [],
   "source": [
    "sql[\"date\"]=pd.to_datetime(sql[\"date\"])"
   ]
  },
  {
   "cell_type": "code",
   "execution_count": 10,
   "metadata": {},
   "outputs": [],
   "source": [
    "nsql[\"date\"]=pd.to_datetime(nsql[\"date\"])"
   ]
  },
  {
   "cell_type": "code",
   "execution_count": 20,
   "metadata": {},
   "outputs": [],
   "source": [
    "sql['delta'] = sql['date']-sql['date'].shift()\n",
    "sql=sql.drop(columns=['delta'])"
   ]
  },
  {
   "cell_type": "code",
   "execution_count": 21,
   "metadata": {},
   "outputs": [],
   "source": [
    "#split the df by project\n",
    "projects= list(set(sql[\"project\"].tolist()))"
   ]
  },
  {
   "cell_type": "code",
   "execution_count": 22,
   "metadata": {},
   "outputs": [],
   "source": [
    "#split the dataframe by projects\n",
    "sql_dfs=[]\n",
    "for index, p in enumerate(projects):\n",
    "    df= sql[sql[\"project\"]==p]\n",
    "    sql_dfs.append(df)"
   ]
  },
  {
   "cell_type": "code",
   "execution_count": 34,
   "metadata": {},
   "outputs": [
    {
     "name": "stderr",
     "output_type": "stream",
     "text": [
      "<ipython-input-34-0d62105af5a3>:3: SettingWithCopyWarning: \n",
      "A value is trying to be set on a copy of a slice from a DataFrame.\n",
      "Try using .loc[row_indexer,col_indexer] = value instead\n",
      "\n",
      "See the caveats in the documentation: https://pandas.pydata.org/pandas-docs/stable/user_guide/indexing.html#returning-a-view-versus-a-copy\n",
      "  d['delta']=(d['date']-d['date'].shift()).dt.days\n"
     ]
    }
   ],
   "source": [
    "#now compute the delta for each frame\n",
    "for d in sql_dfs:\n",
    "    d['delta']=(d['date']-d['date'].shift()).dt.days\n",
    "sql_computed=pd.concat(sql_dfs)\n",
    "sql_computed=sql_computed[~sql_computed[\"delta\"].isnull()] #remove the first versions with 0 delata"
   ]
  },
  {
   "cell_type": "code",
   "execution_count": 35,
   "metadata": {},
   "outputs": [
    {
     "name": "stderr",
     "output_type": "stream",
     "text": [
      "<ipython-input-35-4ee19f0faa06>:10: SettingWithCopyWarning: \n",
      "A value is trying to be set on a copy of a slice from a DataFrame.\n",
      "Try using .loc[row_indexer,col_indexer] = value instead\n",
      "\n",
      "See the caveats in the documentation: https://pandas.pydata.org/pandas-docs/stable/user_guide/indexing.html#returning-a-view-versus-a-copy\n",
      "  d['delta']=(d['date']-d['date'].shift()).dt.days\n"
     ]
    }
   ],
   "source": [
    "#repeat for NoSQL\n",
    "projects= list(set(nsql[\"project\"].tolist()))\n",
    "#split the dataframe by projects\n",
    "nsql_dfs=[]\n",
    "for index, p in enumerate(projects):\n",
    "    df= nsql[nsql[\"project\"]==p]\n",
    "    nsql_dfs.append(df)\n",
    "#now compute the delta for each frame\n",
    "for d in nsql_dfs:\n",
    "    d['delta']=(d['date']-d['date'].shift()).dt.days #convert the difference to days\n",
    "nsql_computed=pd.concat(nsql_dfs)\n",
    "nsql_computed=nsql_computed[~nsql_computed[\"delta\"].isnull()] #remove the first versions with 0 delata"
   ]
  },
  {
   "cell_type": "code",
   "execution_count": 36,
   "metadata": {},
   "outputs": [
    {
     "data": {
      "text/html": [
       "<div>\n",
       "<style scoped>\n",
       "    .dataframe tbody tr th:only-of-type {\n",
       "        vertical-align: middle;\n",
       "    }\n",
       "\n",
       "    .dataframe tbody tr th {\n",
       "        vertical-align: top;\n",
       "    }\n",
       "\n",
       "    .dataframe thead th {\n",
       "        text-align: right;\n",
       "    }\n",
       "</style>\n",
       "<table border=\"1\" class=\"dataframe\">\n",
       "  <thead>\n",
       "    <tr style=\"text-align: right;\">\n",
       "      <th></th>\n",
       "      <th>project</th>\n",
       "      <th>version</th>\n",
       "      <th>sha</th>\n",
       "      <th>date</th>\n",
       "      <th>delta</th>\n",
       "    </tr>\n",
       "  </thead>\n",
       "  <tbody>\n",
       "    <tr>\n",
       "      <th>32</th>\n",
       "      <td>RyanSusana_elepy</td>\n",
       "      <td>2</td>\n",
       "      <td>e91802796253027524f1629e8b511504b124e61a</td>\n",
       "      <td>2019-01-18 11:00:01+00:00</td>\n",
       "      <td>268.0</td>\n",
       "    </tr>\n",
       "    <tr>\n",
       "      <th>33</th>\n",
       "      <td>RyanSusana_elepy</td>\n",
       "      <td>3</td>\n",
       "      <td>e335177c87920864402a77b56b71f7dda2ce0f81</td>\n",
       "      <td>2019-07-17 10:27:32+00:00</td>\n",
       "      <td>179.0</td>\n",
       "    </tr>\n",
       "    <tr>\n",
       "      <th>34</th>\n",
       "      <td>RyanSusana_elepy</td>\n",
       "      <td>4</td>\n",
       "      <td>e46a9577f74dd6a09c9df7acd659c9aac5e2e55d</td>\n",
       "      <td>2020-05-21 23:00:01+00:00</td>\n",
       "      <td>309.0</td>\n",
       "    </tr>\n",
       "    <tr>\n",
       "      <th>68</th>\n",
       "      <td>hazelcast_hazelcast-jet</td>\n",
       "      <td>2</td>\n",
       "      <td>1056235cd74f9742084b7d417d22c6427d1608b8</td>\n",
       "      <td>2017-02-06 18:40:34+00:00</td>\n",
       "      <td>161.0</td>\n",
       "    </tr>\n",
       "    <tr>\n",
       "      <th>69</th>\n",
       "      <td>hazelcast_hazelcast-jet</td>\n",
       "      <td>3</td>\n",
       "      <td>d52982f0e8274a25f824aecd132c1275cf2efe51</td>\n",
       "      <td>2018-05-11 12:46:46+00:00</td>\n",
       "      <td>458.0</td>\n",
       "    </tr>\n",
       "  </tbody>\n",
       "</table>\n",
       "</div>"
      ],
      "text/plain": [
       "                    project  version  \\\n",
       "32         RyanSusana_elepy        2   \n",
       "33         RyanSusana_elepy        3   \n",
       "34         RyanSusana_elepy        4   \n",
       "68  hazelcast_hazelcast-jet        2   \n",
       "69  hazelcast_hazelcast-jet        3   \n",
       "\n",
       "                                         sha                      date  delta  \n",
       "32  e91802796253027524f1629e8b511504b124e61a 2019-01-18 11:00:01+00:00  268.0  \n",
       "33  e335177c87920864402a77b56b71f7dda2ce0f81 2019-07-17 10:27:32+00:00  179.0  \n",
       "34  e46a9577f74dd6a09c9df7acd659c9aac5e2e55d 2020-05-21 23:00:01+00:00  309.0  \n",
       "68  1056235cd74f9742084b7d417d22c6427d1608b8 2017-02-06 18:40:34+00:00  161.0  \n",
       "69  d52982f0e8274a25f824aecd132c1275cf2efe51 2018-05-11 12:46:46+00:00  458.0  "
      ]
     },
     "execution_count": 36,
     "metadata": {},
     "output_type": "execute_result"
    }
   ],
   "source": [
    "nsql_computed.head()"
   ]
  },
  {
   "cell_type": "code",
   "execution_count": 37,
   "metadata": {},
   "outputs": [
    {
     "name": "stdout",
     "output_type": "stream",
     "text": [
      "                                          mean  count          std\n",
      "project                                                           \n",
      "AdrienPoupa_VinylMusicPlayer        582.666667      3   384.173572\n",
      "AndlyticsProject_andlytics          889.666667      3  1284.580217\n",
      "AntennaPod_AntennaPod               234.846154     13   138.938143\n",
      "AppLozic_Applozic-Android-SDK       528.666667      3   256.480669\n",
      "AxonFramework_AxonFramework         316.454545     11   303.794458\n",
      "...                                        ...    ...          ...\n",
      "wordpress-mobile_WordPress-Android   40.549451     91    82.623277\n",
      "wso2_carbon-apimgt                   39.750000     48    41.985053\n",
      "wso2_product-apim                   136.642857     14   110.242814\n",
      "xipki_xipki                         185.416667     12   135.585906\n",
      "yukuku_androidbible                 509.714286      7   502.347063\n",
      "\n",
      "[84 rows x 3 columns]\n"
     ]
    }
   ],
   "source": []
  },
  {
   "cell_type": "code",
   "execution_count": 70,
   "metadata": {},
   "outputs": [],
   "source": [
    "#Taken from the stackoverflow answer https://stackoverflow.com/a/53522680\n",
    "#compute the mean and confidence interval\n",
    "stats = sql_computed.groupby(['project'])['delta'].agg(['mean', 'count', 'std'])\n",
    "ci95_hi = []\n",
    "ci95_lo = []\n",
    "\n",
    "for i in stats.index:\n",
    "    m, c, s = stats.loc[i]\n",
    "    ci95_hi.append(m + 1.95*s/math.sqrt(c))\n",
    "    ci95_lo.append(m - 1.95*s/math.sqrt(c))\n",
    "stats['ci95_low'] = ci95_lo\n",
    "stats['ci95_high'] = ci95_hi\n",
    "sql_stats=stats\n",
    "#NoSQL\n",
    "#Taken from the stackoverflow answer https://stackoverflow.com/a/53522680\n",
    "#compute the mean and confidence interval\n",
    "stats = nsql_computed.groupby(['project'])['delta'].agg(['mean', 'count', 'std'])\n",
    "ci95_hi = []\n",
    "ci95_lo = []\n",
    "\n",
    "for i in stats.index:\n",
    "    m, c, s = stats.loc[i]\n",
    "    ci95_hi.append(m + 1.95*s/math.sqrt(c))\n",
    "    ci95_lo.append(m - 1.95*s/math.sqrt(c))\n",
    "stats['ci95_low'] = ci95_lo\n",
    "stats['ci95_high'] = ci95_hi\n",
    "nsql_stats=stats"
   ]
  },
  {
   "cell_type": "code",
   "execution_count": 71,
   "metadata": {},
   "outputs": [],
   "source": [
    "sql_stats[\"project\"]=sql_stats.index\n",
    "sql_stats=sql_stats.reset_index(drop=True)\n",
    "sql_stats=sql_stats.reindex(columns=['project', 'count','mean', 'std', 'ci95_low', 'ci95_high'])\n",
    "sql_stats.head()\n",
    "sql_stats.to_csv(\"SQL_projects_commit_time_stat.csv\", index=False)"
   ]
  },
  {
   "cell_type": "code",
   "execution_count": 72,
   "metadata": {},
   "outputs": [],
   "source": [
    "nsql_stats[\"project\"]=nsql_stats.index\n",
    "nsql_stats=nsql_stats.reset_index(drop=True)\n",
    "nsql_stats=nsql_stats.reindex(columns=['project', 'count','mean', 'std', 'ci95_low', 'ci95_high'])\n",
    "nsql_stats.head()\n",
    "nsql_stats.to_csv(\"NSQL_projects_commit_time_stat.csv\", index=False)"
   ]
  },
  {
   "cell_type": "code",
   "execution_count": 17,
   "metadata": {},
   "outputs": [],
   "source": [
    "#explore the result dataset\n",
    "sql= pd.read_csv(\"SQL_projects_commit_time_stat.csv\")\n",
    "nosql=pd.read_csv(\"NSQL_projects_commit_time_stat.csv\")"
   ]
  },
  {
   "cell_type": "code",
   "execution_count": 18,
   "metadata": {},
   "outputs": [
    {
     "data": {
      "text/html": [
       "<div>\n",
       "<style scoped>\n",
       "    .dataframe tbody tr th:only-of-type {\n",
       "        vertical-align: middle;\n",
       "    }\n",
       "\n",
       "    .dataframe tbody tr th {\n",
       "        vertical-align: top;\n",
       "    }\n",
       "\n",
       "    .dataframe thead th {\n",
       "        text-align: right;\n",
       "    }\n",
       "</style>\n",
       "<table border=\"1\" class=\"dataframe\">\n",
       "  <thead>\n",
       "    <tr style=\"text-align: right;\">\n",
       "      <th></th>\n",
       "      <th>Subject system</th>\n",
       "      <th>Snapshots</th>\n",
       "      <th>Mean</th>\n",
       "      <th>SD</th>\n",
       "      <th>95_CI_low</th>\n",
       "      <th>95_CI_high</th>\n",
       "    </tr>\n",
       "  </thead>\n",
       "  <tbody>\n",
       "    <tr>\n",
       "      <th>0</th>\n",
       "      <td>Flipkart_foxtrot</td>\n",
       "      <td>5</td>\n",
       "      <td>440.40</td>\n",
       "      <td>247.40</td>\n",
       "      <td>224.65</td>\n",
       "      <td>656.15</td>\n",
       "    </tr>\n",
       "    <tr>\n",
       "      <th>1</th>\n",
       "      <td>Hurence_logisland</td>\n",
       "      <td>4</td>\n",
       "      <td>321.75</td>\n",
       "      <td>126.33</td>\n",
       "      <td>198.58</td>\n",
       "      <td>444.92</td>\n",
       "    </tr>\n",
       "    <tr>\n",
       "      <th>2</th>\n",
       "      <td>IHTSDO_snowstorm</td>\n",
       "      <td>3</td>\n",
       "      <td>445.33</td>\n",
       "      <td>186.16</td>\n",
       "      <td>235.75</td>\n",
       "      <td>654.91</td>\n",
       "    </tr>\n",
       "    <tr>\n",
       "      <th>3</th>\n",
       "      <td>OpenSextant_Xponents</td>\n",
       "      <td>3</td>\n",
       "      <td>830.67</td>\n",
       "      <td>225.25</td>\n",
       "      <td>577.07</td>\n",
       "      <td>1084.26</td>\n",
       "    </tr>\n",
       "    <tr>\n",
       "      <th>4</th>\n",
       "      <td>RyanSusana_elepy</td>\n",
       "      <td>3</td>\n",
       "      <td>252.00</td>\n",
       "      <td>66.46</td>\n",
       "      <td>177.18</td>\n",
       "      <td>326.82</td>\n",
       "    </tr>\n",
       "  </tbody>\n",
       "</table>\n",
       "</div>"
      ],
      "text/plain": [
       "         Subject system  Snapshots    Mean      SD  95_CI_low  95_CI_high\n",
       "0      Flipkart_foxtrot          5  440.40  247.40     224.65      656.15\n",
       "1     Hurence_logisland          4  321.75  126.33     198.58      444.92\n",
       "2      IHTSDO_snowstorm          3  445.33  186.16     235.75      654.91\n",
       "3  OpenSextant_Xponents          3  830.67  225.25     577.07     1084.26\n",
       "4      RyanSusana_elepy          3  252.00   66.46     177.18      326.82"
      ]
     },
     "execution_count": 18,
     "metadata": {},
     "output_type": "execute_result"
    }
   ],
   "source": [
    "len(sql.index)\n",
    "sql.head()\n",
    "nosql.head()"
   ]
  },
  {
   "cell_type": "code",
   "execution_count": 22,
   "metadata": {},
   "outputs": [],
   "source": [
    "sql[\"group\"]=\"SQL\"\n",
    "nosql[\"group\"]=\"NoSQL\"\n",
    "comb=pd.concat([sql,nosql])\n",
    "comb.to_csv(\"combined_projects_commit_time_stat.csv\", index=False)"
   ]
  },
  {
   "cell_type": "code",
   "execution_count": 16,
   "metadata": {},
   "outputs": [
    {
     "data": {
      "text/plain": [
       "Index(['Subject system', 'Snapshots', 'Mean', 'SD', '95_CI_low', '95_CI_high',\n",
       "       'group'],\n",
       "      dtype='object')"
      ]
     },
     "execution_count": 16,
     "metadata": {},
     "output_type": "execute_result"
    }
   ],
   "source": [
    "sql.columns"
   ]
  },
  {
   "cell_type": "code",
   "execution_count": 24,
   "metadata": {},
   "outputs": [
    {
     "data": {
      "text/html": [
       "<div>\n",
       "<style scoped>\n",
       "    .dataframe tbody tr th:only-of-type {\n",
       "        vertical-align: middle;\n",
       "    }\n",
       "\n",
       "    .dataframe tbody tr th {\n",
       "        vertical-align: top;\n",
       "    }\n",
       "\n",
       "    .dataframe thead th {\n",
       "        text-align: right;\n",
       "    }\n",
       "</style>\n",
       "<table border=\"1\" class=\"dataframe\">\n",
       "  <thead>\n",
       "    <tr style=\"text-align: right;\">\n",
       "      <th></th>\n",
       "      <th>Snapshots</th>\n",
       "      <th>Mean</th>\n",
       "      <th>SD</th>\n",
       "      <th>95_CI_low</th>\n",
       "      <th>95_CI_high</th>\n",
       "    </tr>\n",
       "    <tr>\n",
       "      <th>group</th>\n",
       "      <th></th>\n",
       "      <th></th>\n",
       "      <th></th>\n",
       "      <th></th>\n",
       "      <th></th>\n",
       "    </tr>\n",
       "  </thead>\n",
       "  <tbody>\n",
       "    <tr>\n",
       "      <th>NoSQL</th>\n",
       "      <td>3.736842</td>\n",
       "      <td>534.986842</td>\n",
       "      <td>291.844211</td>\n",
       "      <td>210.281579</td>\n",
       "      <td>859.693684</td>\n",
       "    </tr>\n",
       "    <tr>\n",
       "      <th>SQL</th>\n",
       "      <td>14.265060</td>\n",
       "      <td>423.210843</td>\n",
       "      <td>323.130964</td>\n",
       "      <td>108.111928</td>\n",
       "      <td>738.309277</td>\n",
       "    </tr>\n",
       "  </tbody>\n",
       "</table>\n",
       "</div>"
      ],
      "text/plain": [
       "       Snapshots        Mean          SD   95_CI_low  95_CI_high\n",
       "group                                                           \n",
       "NoSQL   3.736842  534.986842  291.844211  210.281579  859.693684\n",
       "SQL    14.265060  423.210843  323.130964  108.111928  738.309277"
      ]
     },
     "execution_count": 24,
     "metadata": {},
     "output_type": "execute_result"
    }
   ],
   "source": [
    "comb.groupby(by=[\"group\"]).mean()"
   ]
  },
  {
   "cell_type": "code",
   "execution_count": null,
   "metadata": {},
   "outputs": [],
   "source": []
  }
 ],
 "metadata": {
  "kernelspec": {
   "display_name": "Python 3",
   "language": "python",
   "name": "python3"
  },
  "language_info": {
   "codemirror_mode": {
    "name": "ipython",
    "version": 3
   },
   "file_extension": ".py",
   "mimetype": "text/x-python",
   "name": "python",
   "nbconvert_exporter": "python",
   "pygments_lexer": "ipython3",
   "version": "3.8.5"
  }
 },
 "nbformat": 4,
 "nbformat_minor": 4
}
