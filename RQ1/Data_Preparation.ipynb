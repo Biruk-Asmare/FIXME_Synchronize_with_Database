{
 "cells": [
  {
   "cell_type": "code",
   "execution_count": null,
   "metadata": {},
   "outputs": [],
   "source": [
    "import pandas as pd"
   ]
  },
  {
   "cell_type": "code",
   "execution_count": null,
   "metadata": {},
   "outputs": [],
   "source": [
    "#info containing latest version of projects\n",
    "sql_proj_ver=pd.read_csv(\"../Data_Collection/SQL_project_versions.csv\")\n",
    "nsql_proj_ver= pd.read_csv(\"../Data_Collection/NoSQL_Project_versions.csv\")\n",
    "#raw datasets\n",
    "sql=pd.read_csv(\"../Data_Collection/SQL_raw_dataset.csv\")\n",
    "nosql=pd.read_csv(\"../Data_Collection/NOSQL_raw_dataset.csv\")"
   ]
  },
  {
   "cell_type": "code",
   "execution_count": null,
   "metadata": {},
   "outputs": [],
   "source": [
    "sql.head()"
   ]
  },
  {
   "cell_type": "code",
   "execution_count": null,
   "metadata": {},
   "outputs": [],
   "source": [
    "nosql.head()"
   ]
  },
  {
   "cell_type": "code",
   "execution_count": null,
   "metadata": {},
   "outputs": [],
   "source": [
    "#Now for each project, get the list of versions,\n",
    "\n",
    "def get_list_of_versions_per_project(project, proj_col_name, df):\n",
    "    vers=df[df[proj_col_name]==project][\"version\"].tolist()\n",
    "    vers= list(set(vers))\n",
    "    vers=pd.DataFrame(vers)\n",
    "    vers.columns=[\"version\"]\n",
    "    vers[\"project\"]=project\n",
    "    return vers\n",
    "list_of_dfs.append(get_list_of_versions_per_project(\"adempiere_adempiere\",\"project\",sql))"
   ]
  },
  {
   "cell_type": "code",
   "execution_count": null,
   "metadata": {},
   "outputs": [],
   "source": [
    "#get list of projects\n",
    "sql_projects_list=sql_projs[\"Project\"].tolist()\n",
    "nsql_projects_list= nsql_projs[\"Project\"].tolist()"
   ]
  },
  {
   "cell_type": "code",
   "execution_count": null,
   "metadata": {},
   "outputs": [],
   "source": [
    "list_of_sql_dfs=[]\n",
    "for proj in sql_projects_list:\n",
    "    list_of_sql_dfs.append(get_list_of_versions_per_project(proj,\"project\",sql))\n",
    "list_of_nsql_dfs=[]\n",
    "for proj in nsql_projects_list:\n",
    "    list_of_nsql_dfs.append(get_list_of_versions_per_project(proj,\"project\",nosql))\n",
    "len(list_of_nsql_dfs)"
   ]
  },
  {
   "cell_type": "code",
   "execution_count": null,
   "metadata": {},
   "outputs": [],
   "source": [
    "len(list_of_sql_dfs)"
   ]
  },
  {
   "cell_type": "code",
   "execution_count": null,
   "metadata": {},
   "outputs": [],
   "source": [
    "rq1_sql_data=pd.concat(list_of_sql_dfs)\n",
    "rq1_nosql_data=pd.concat(list_of_nsql_dfs)"
   ]
  },
  {
   "cell_type": "code",
   "execution_count": null,
   "metadata": {},
   "outputs": [],
   "source": [
    "d=sql[(sql[\"project\"]==\"adempiere_adempiere\") & (sql[\"version\"]==1) & (sql[\"is_dac\"])]\n",
    "d.shape[0]"
   ]
  },
  {
   "cell_type": "code",
   "execution_count": null,
   "metadata": {},
   "outputs": [],
   "source": [
    "#now compute the number of dac and non-dac for each version\n",
    "def count_dac(row, df):\n",
    "    d=df[(df[\"project\"]==row.project) & (df[\"version\"]==row.version) & (df[\"is_dac\"])]\n",
    "    return d.shape[0]"
   ]
  },
  {
   "cell_type": "code",
   "execution_count": null,
   "metadata": {},
   "outputs": [],
   "source": [
    "rq1_sql_data[\"dac_count\"]=rq1_sql_data.apply(count_dac, args=(sql,), axis=1)"
   ]
  },
  {
   "cell_type": "code",
   "execution_count": null,
   "metadata": {},
   "outputs": [],
   "source": [
    "rq1_nosql_data[\"dac_count\"]= rq1_nosql_data.apply(count_dac, args=(nosql,), axis=1)"
   ]
  },
  {
   "cell_type": "code",
   "execution_count": null,
   "metadata": {},
   "outputs": [],
   "source": [
    "rq1_sql_data[(rq1_sql_data[\"project\"]==\"adempiere_adempiere\") & (rq1_sql_data[\"version\"]==3)]"
   ]
  },
  {
   "cell_type": "code",
   "execution_count": null,
   "metadata": {},
   "outputs": [],
   "source": [
    "#now lets count not_dac\n",
    "def count_nondac(row, df):\n",
    "    d=df[(df[\"project\"]==row.project) & (df[\"version\"]==row.version) & (df[\"is_dac\"]==False)]\n",
    "    return d.shape[0]"
   ]
  },
  {
   "cell_type": "code",
   "execution_count": null,
   "metadata": {},
   "outputs": [],
   "source": [
    "rq1_sql_data[\"non_dac_count\"]=rq1_sql_data.apply(count_nondac, args=(sql,), axis=1)"
   ]
  },
  {
   "cell_type": "code",
   "execution_count": null,
   "metadata": {},
   "outputs": [],
   "source": [
    "rq1_nosql_data[\"non_dac_count\"]= rq1_nosql_data.apply(count_nondac, args=(nosql,), axis=1)"
   ]
  },
  {
   "cell_type": "code",
   "execution_count": null,
   "metadata": {},
   "outputs": [],
   "source": [
    "rq1_sql_data.head()"
   ]
  },
  {
   "cell_type": "code",
   "execution_count": null,
   "metadata": {},
   "outputs": [],
   "source": [
    "d=sql[(sql[\"project\"]==\"openl-tablets_openl-tablets\") & (sql[\"version\"]==3) & (sql[\"is_dac\"]==False)]\n",
    "d.shape[0]"
   ]
  },
  {
   "cell_type": "code",
   "execution_count": null,
   "metadata": {},
   "outputs": [],
   "source": [
    "#save results to files\n",
    "rq1_sql_data.to_csv(\"RQ1_SQL_Diffusion_dataset.csv\", index=False)\n",
    "rq1_nosql_data.to_csv(\"RQ1_NOSQL_Diffusion_dataset.csv\", index=False)"
   ]
  },
  {
   "cell_type": "code",
   "execution_count": null,
   "metadata": {},
   "outputs": [],
   "source": [
    "#done extracting data"
   ]
  }
 ],
 "metadata": {
  "kernelspec": {
   "display_name": "Python 3",
   "language": "python",
   "name": "python3"
  },
  "language_info": {
   "codemirror_mode": {
    "name": "ipython",
    "version": 3
   },
   "file_extension": ".py",
   "mimetype": "text/x-python",
   "name": "python",
   "nbconvert_exporter": "python",
   "pygments_lexer": "ipython3",
   "version": "3.8.5"
  }
 },
 "nbformat": 4,
 "nbformat_minor": 4
}
