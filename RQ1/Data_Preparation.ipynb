{
 "cells": [
  {
   "cell_type": "code",
   "execution_count": 1,
   "metadata": {},
   "outputs": [],
   "source": [
    "import pandas as pd"
   ]
  },
  {
   "cell_type": "code",
   "execution_count": null,
   "metadata": {},
   "outputs": [],
   "source": [
    "#info containing latest version of projects\n",
    "sql_proj_ver=pd.read_csv(\"../Data_Collection/SQL_project_versions.csv\")\n",
    "nsql_proj_ver= pd.read_csv(\"../Data_Collection/NoSQL_Project_versions.csv\")\n",
    "#raw datasets\n",
    "sql=pd.read_csv(\"../Data_Collection/SQL_raw_dataset.csv\")\n",
    "nosql=pd.read_csv(\"../Data_Collection/NOSQL_raw_dataset.csv\")"
   ]
  },
  {
   "cell_type": "code",
   "execution_count": null,
   "metadata": {},
   "outputs": [],
   "source": [
    "sql.head()"
   ]
  },
  {
   "cell_type": "code",
   "execution_count": null,
   "metadata": {},
   "outputs": [],
   "source": [
    "nosql.head()"
   ]
  },
  {
   "cell_type": "code",
   "execution_count": null,
   "metadata": {},
   "outputs": [],
   "source": [
    "#Now for each project, get the list of versions,\n",
    "\n",
    "def get_list_of_versions_per_project(project, proj_col_name, df):\n",
    "    vers=df[df[proj_col_name]==project][\"version\"].tolist()\n",
    "    vers= list(set(vers))\n",
    "    vers=pd.DataFrame(vers)\n",
    "    vers.columns=[\"version\"]\n",
    "    vers[\"project\"]=project\n",
    "    return vers\n",
    "list_of_dfs.append(get_list_of_versions_per_project(\"adempiere_adempiere\",\"project\",sql))"
   ]
  },
  {
   "cell_type": "code",
   "execution_count": null,
   "metadata": {},
   "outputs": [],
   "source": [
    "#get list of projects\n",
    "sql_projects_list=sql_projs[\"Project\"].tolist()\n",
    "nsql_projects_list= nsql_projs[\"Project\"].tolist()"
   ]
  },
  {
   "cell_type": "code",
   "execution_count": null,
   "metadata": {},
   "outputs": [],
   "source": [
    "list_of_sql_dfs=[]\n",
    "for proj in sql_projects_list:\n",
    "    list_of_sql_dfs.append(get_list_of_versions_per_project(proj,\"project\",sql))\n",
    "list_of_nsql_dfs=[]\n",
    "for proj in nsql_projects_list:\n",
    "    list_of_nsql_dfs.append(get_list_of_versions_per_project(proj,\"project\",nosql))\n",
    "len(list_of_nsql_dfs)"
   ]
  },
  {
   "cell_type": "code",
   "execution_count": null,
   "metadata": {},
   "outputs": [],
   "source": [
    "len(list_of_sql_dfs)"
   ]
  },
  {
   "cell_type": "code",
   "execution_count": null,
   "metadata": {},
   "outputs": [],
   "source": [
    "rq1_sql_data=pd.concat(list_of_sql_dfs)\n",
    "rq1_nosql_data=pd.concat(list_of_nsql_dfs)"
   ]
  },
  {
   "cell_type": "code",
   "execution_count": null,
   "metadata": {},
   "outputs": [],
   "source": [
    "d=sql[(sql[\"project\"]==\"adempiere_adempiere\") & (sql[\"version\"]==1) & (sql[\"is_dac\"])]\n",
    "d.shape[0]"
   ]
  },
  {
   "cell_type": "code",
   "execution_count": null,
   "metadata": {},
   "outputs": [],
   "source": [
    "#now compute the number of dac and non-dac for each version\n",
    "def count_dac(row, df):\n",
    "    d=df[(df[\"project\"]==row.project) & (df[\"version\"]==row.version) & (df[\"is_dac\"])]\n",
    "    return d.shape[0]"
   ]
  },
  {
   "cell_type": "code",
   "execution_count": null,
   "metadata": {},
   "outputs": [],
   "source": [
    "rq1_sql_data[\"dac_count\"]=rq1_sql_data.apply(count_dac, args=(sql,), axis=1)"
   ]
  },
  {
   "cell_type": "code",
   "execution_count": null,
   "metadata": {},
   "outputs": [],
   "source": [
    "rq1_nosql_data[\"dac_count\"]= rq1_nosql_data.apply(count_dac, args=(nosql,), axis=1)"
   ]
  },
  {
   "cell_type": "code",
   "execution_count": null,
   "metadata": {},
   "outputs": [],
   "source": [
    "rq1_sql_data[(rq1_sql_data[\"project\"]==\"adempiere_adempiere\") & (rq1_sql_data[\"version\"]==3)]"
   ]
  },
  {
   "cell_type": "code",
   "execution_count": null,
   "metadata": {},
   "outputs": [],
   "source": [
    "#now lets count not_dac\n",
    "def count_nondac(row, df):\n",
    "    d=df[(df[\"project\"]==row.project) & (df[\"version\"]==row.version) & (df[\"is_dac\"]==False)]\n",
    "    return d.shape[0]"
   ]
  },
  {
   "cell_type": "code",
   "execution_count": null,
   "metadata": {},
   "outputs": [],
   "source": [
    "rq1_sql_data[\"non_dac_count\"]=rq1_sql_data.apply(count_nondac, args=(sql,), axis=1)"
   ]
  },
  {
   "cell_type": "code",
   "execution_count": null,
   "metadata": {},
   "outputs": [],
   "source": [
    "rq1_nosql_data[\"non_dac_count\"]= rq1_nosql_data.apply(count_nondac, args=(nosql,), axis=1)"
   ]
  },
  {
   "cell_type": "code",
   "execution_count": null,
   "metadata": {},
   "outputs": [],
   "source": [
    "rq1_sql_data.head()"
   ]
  },
  {
   "cell_type": "code",
   "execution_count": null,
   "metadata": {},
   "outputs": [],
   "source": [
    "d=sql[(sql[\"project\"]==\"openl-tablets_openl-tablets\") & (sql[\"version\"]==3) & (sql[\"is_dac\"]==False)]\n",
    "d.shape[0]"
   ]
  },
  {
   "cell_type": "code",
   "execution_count": null,
   "metadata": {},
   "outputs": [],
   "source": [
    "#save results to files\n",
    "rq1_sql_data.to_csv(\"RQ1_SQL_Diffusion_dataset.csv\", index=False)\n",
    "rq1_nosql_data.to_csv(\"RQ1_NOSQL_Diffusion_dataset.csv\", index=False)"
   ]
  },
  {
   "cell_type": "code",
   "execution_count": null,
   "metadata": {},
   "outputs": [],
   "source": [
    "#done extracting data"
   ]
  },
  {
   "cell_type": "code",
   "execution_count": null,
   "metadata": {},
   "outputs": [],
   "source": []
  },
  {
   "cell_type": "code",
   "execution_count": 8,
   "metadata": {},
   "outputs": [],
   "source": [
    "# count summary based on the grouped data\n",
    "sql_g1= pd.read_csv(\"sql_G1.csv\")\n",
    "nsql_g1=pd.read_csv(\"nosql_G1.csv\")\n",
    "sql_g2=pd.read_csv(\"sql_G2s.csv\")\n",
    "nsql_g2=pd.read_csv(\"Nosql_G2s.csv\")\n",
    "sql_g3=pd.read_csv(\"sql_G3s.csv\")"
   ]
  },
  {
   "cell_type": "code",
   "execution_count": 4,
   "metadata": {},
   "outputs": [
    {
     "data": {
      "text/html": [
       "<div>\n",
       "<style scoped>\n",
       "    .dataframe tbody tr th:only-of-type {\n",
       "        vertical-align: middle;\n",
       "    }\n",
       "\n",
       "    .dataframe tbody tr th {\n",
       "        vertical-align: top;\n",
       "    }\n",
       "\n",
       "    .dataframe thead th {\n",
       "        text-align: right;\n",
       "    }\n",
       "</style>\n",
       "<table border=\"1\" class=\"dataframe\">\n",
       "  <thead>\n",
       "    <tr style=\"text-align: right;\">\n",
       "      <th></th>\n",
       "      <th>version</th>\n",
       "      <th>project</th>\n",
       "      <th>dac_count</th>\n",
       "      <th>non_dac_count</th>\n",
       "      <th>analysis_group</th>\n",
       "      <th>commit</th>\n",
       "    </tr>\n",
       "  </thead>\n",
       "  <tbody>\n",
       "    <tr>\n",
       "      <th>71</th>\n",
       "      <td>3</td>\n",
       "      <td>rovo89_XposedInstaller</td>\n",
       "      <td>1</td>\n",
       "      <td>13</td>\n",
       "      <td>G1</td>\n",
       "      <td>1001</td>\n",
       "    </tr>\n",
       "  </tbody>\n",
       "</table>\n",
       "</div>"
      ],
      "text/plain": [
       "    version                 project  dac_count  non_dac_count analysis_group  \\\n",
       "71        3  rovo89_XposedInstaller          1             13             G1   \n",
       "\n",
       "    commit  \n",
       "71    1001  "
      ]
     },
     "execution_count": 4,
     "metadata": {},
     "output_type": "execute_result"
    }
   ],
   "source": [
    "sql_g1.tail(1)"
   ]
  },
  {
   "cell_type": "code",
   "execution_count": 5,
   "metadata": {},
   "outputs": [
    {
     "data": {
      "text/html": [
       "<div>\n",
       "<style scoped>\n",
       "    .dataframe tbody tr th:only-of-type {\n",
       "        vertical-align: middle;\n",
       "    }\n",
       "\n",
       "    .dataframe tbody tr th {\n",
       "        vertical-align: top;\n",
       "    }\n",
       "\n",
       "    .dataframe thead th {\n",
       "        text-align: right;\n",
       "    }\n",
       "</style>\n",
       "<table border=\"1\" class=\"dataframe\">\n",
       "  <thead>\n",
       "    <tr style=\"text-align: right;\">\n",
       "      <th></th>\n",
       "      <th>version</th>\n",
       "      <th>project</th>\n",
       "      <th>dac_count</th>\n",
       "      <th>non_dac_count</th>\n",
       "      <th>analysis_group</th>\n",
       "      <th>commit</th>\n",
       "    </tr>\n",
       "  </thead>\n",
       "  <tbody>\n",
       "    <tr>\n",
       "      <th>0</th>\n",
       "      <td>1</td>\n",
       "      <td>gisaia_ARLAS-server</td>\n",
       "      <td>1</td>\n",
       "      <td>12</td>\n",
       "      <td>G1</td>\n",
       "      <td>1</td>\n",
       "    </tr>\n",
       "  </tbody>\n",
       "</table>\n",
       "</div>"
      ],
      "text/plain": [
       "   version              project  dac_count  non_dac_count analysis_group  \\\n",
       "0        1  gisaia_ARLAS-server          1             12             G1   \n",
       "\n",
       "   commit  \n",
       "0       1  "
      ]
     },
     "execution_count": 5,
     "metadata": {},
     "output_type": "execute_result"
    }
   ],
   "source": [
    "nsql_g1.head(1)"
   ]
  },
  {
   "cell_type": "code",
   "execution_count": 6,
   "metadata": {},
   "outputs": [
    {
     "data": {
      "text/html": [
       "<div>\n",
       "<style scoped>\n",
       "    .dataframe tbody tr th:only-of-type {\n",
       "        vertical-align: middle;\n",
       "    }\n",
       "\n",
       "    .dataframe tbody tr th {\n",
       "        vertical-align: top;\n",
       "    }\n",
       "\n",
       "    .dataframe thead th {\n",
       "        text-align: right;\n",
       "    }\n",
       "</style>\n",
       "<table border=\"1\" class=\"dataframe\">\n",
       "  <thead>\n",
       "    <tr style=\"text-align: right;\">\n",
       "      <th></th>\n",
       "      <th>version</th>\n",
       "      <th>project</th>\n",
       "      <th>dac_count</th>\n",
       "      <th>non_dac_count</th>\n",
       "      <th>analysis_group</th>\n",
       "      <th>commit</th>\n",
       "    </tr>\n",
       "  </thead>\n",
       "  <tbody>\n",
       "    <tr>\n",
       "      <th>0</th>\n",
       "      <td>1</td>\n",
       "      <td>shroffk_phoebus</td>\n",
       "      <td>0</td>\n",
       "      <td>141</td>\n",
       "      <td>G2</td>\n",
       "      <td>1</td>\n",
       "    </tr>\n",
       "  </tbody>\n",
       "</table>\n",
       "</div>"
      ],
      "text/plain": [
       "   version          project  dac_count  non_dac_count analysis_group  commit\n",
       "0        1  shroffk_phoebus          0            141             G2       1"
      ]
     },
     "execution_count": 6,
     "metadata": {},
     "output_type": "execute_result"
    }
   ],
   "source": [
    "sql_g2.head(1)"
   ]
  },
  {
   "cell_type": "code",
   "execution_count": 30,
   "metadata": {},
   "outputs": [
    {
     "data": {
      "text/html": [
       "<div>\n",
       "<style scoped>\n",
       "    .dataframe tbody tr th:only-of-type {\n",
       "        vertical-align: middle;\n",
       "    }\n",
       "\n",
       "    .dataframe tbody tr th {\n",
       "        vertical-align: top;\n",
       "    }\n",
       "\n",
       "    .dataframe thead th {\n",
       "        text-align: right;\n",
       "    }\n",
       "</style>\n",
       "<table border=\"1\" class=\"dataframe\">\n",
       "  <thead>\n",
       "    <tr style=\"text-align: right;\">\n",
       "      <th></th>\n",
       "      <th>version</th>\n",
       "      <th>project</th>\n",
       "      <th>dac_count</th>\n",
       "      <th>non_dac_count</th>\n",
       "      <th>analysis_group</th>\n",
       "      <th>commit</th>\n",
       "      <th>group</th>\n",
       "    </tr>\n",
       "  </thead>\n",
       "  <tbody>\n",
       "    <tr>\n",
       "      <th>12</th>\n",
       "      <td>7</td>\n",
       "      <td>hazelcast_hazelcast-simulator</td>\n",
       "      <td>1</td>\n",
       "      <td>17</td>\n",
       "      <td>G2</td>\n",
       "      <td>3001</td>\n",
       "      <td>NoSQL</td>\n",
       "    </tr>\n",
       "    <tr>\n",
       "      <th>24</th>\n",
       "      <td>7</td>\n",
       "      <td>codelibs_fess</td>\n",
       "      <td>19</td>\n",
       "      <td>51</td>\n",
       "      <td>G2</td>\n",
       "      <td>3001</td>\n",
       "      <td>NoSQL</td>\n",
       "    </tr>\n",
       "  </tbody>\n",
       "</table>\n",
       "</div>"
      ],
      "text/plain": [
       "    version                        project  dac_count  non_dac_count  \\\n",
       "12        7  hazelcast_hazelcast-simulator          1             17   \n",
       "24        7                  codelibs_fess         19             51   \n",
       "\n",
       "   analysis_group  commit  group  \n",
       "12             G2    3001  NoSQL  \n",
       "24             G2    3001  NoSQL  "
      ]
     },
     "execution_count": 30,
     "metadata": {},
     "output_type": "execute_result"
    }
   ],
   "source": [
    "nsql_g2[nsql_g2[\"commit\"]==3001]"
   ]
  },
  {
   "cell_type": "code",
   "execution_count": 31,
   "metadata": {},
   "outputs": [
    {
     "data": {
      "text/plain": [
       "68"
      ]
     },
     "execution_count": 31,
     "metadata": {},
     "output_type": "execute_result"
    }
   ],
   "source": [
    "51+17"
   ]
  },
  {
   "cell_type": "code",
   "execution_count": 9,
   "metadata": {},
   "outputs": [
    {
     "data": {
      "text/html": [
       "<div>\n",
       "<style scoped>\n",
       "    .dataframe tbody tr th:only-of-type {\n",
       "        vertical-align: middle;\n",
       "    }\n",
       "\n",
       "    .dataframe tbody tr th {\n",
       "        vertical-align: top;\n",
       "    }\n",
       "\n",
       "    .dataframe thead th {\n",
       "        text-align: right;\n",
       "    }\n",
       "</style>\n",
       "<table border=\"1\" class=\"dataframe\">\n",
       "  <thead>\n",
       "    <tr style=\"text-align: right;\">\n",
       "      <th></th>\n",
       "      <th>version</th>\n",
       "      <th>project</th>\n",
       "      <th>dac_count</th>\n",
       "      <th>non_dac_count</th>\n",
       "      <th>analysis_group</th>\n",
       "      <th>commit</th>\n",
       "    </tr>\n",
       "  </thead>\n",
       "  <tbody>\n",
       "    <tr>\n",
       "      <th>0</th>\n",
       "      <td>1</td>\n",
       "      <td>openl-tablets_openl-tablets</td>\n",
       "      <td>0</td>\n",
       "      <td>232</td>\n",
       "      <td>G3</td>\n",
       "      <td>1</td>\n",
       "    </tr>\n",
       "  </tbody>\n",
       "</table>\n",
       "</div>"
      ],
      "text/plain": [
       "   version                      project  dac_count  non_dac_count  \\\n",
       "0        1  openl-tablets_openl-tablets          0            232   \n",
       "\n",
       "  analysis_group  commit  \n",
       "0             G3       1  "
      ]
     },
     "execution_count": 9,
     "metadata": {},
     "output_type": "execute_result"
    }
   ],
   "source": [
    "sql_g3.head(1)"
   ]
  },
  {
   "cell_type": "code",
   "execution_count": 19,
   "metadata": {},
   "outputs": [],
   "source": [
    "sql_g1[\"group\"]=\"SQL\"\n",
    "nsql_g1[\"group\"]=\"NoSQL\"\n",
    "g1=pd.concat([sql_g1, nsql_g1])"
   ]
  },
  {
   "cell_type": "code",
   "execution_count": 25,
   "metadata": {},
   "outputs": [
    {
     "name": "stderr",
     "output_type": "stream",
     "text": [
      "<ipython-input-25-37cb837fef7c>:1: FutureWarning: Indexing with multiple keys (implicitly converted to a tuple of keys) will be deprecated, use a list instead.\n",
      "  g1_summary=g1.groupby(by=[\"commit\",\"group\"])[\"dac_count\",\"non_dac_count\"].describe()\n"
     ]
    }
   ],
   "source": [
    "g1_summary=g1.groupby(by=[\"commit\",\"group\"])[\"dac_count\",\"non_dac_count\"].describe()"
   ]
  },
  {
   "cell_type": "code",
   "execution_count": 26,
   "metadata": {},
   "outputs": [],
   "source": [
    "g1_summary.to_excel(\"g1_summary.xls\")"
   ]
  },
  {
   "cell_type": "code",
   "execution_count": 28,
   "metadata": {},
   "outputs": [
    {
     "name": "stderr",
     "output_type": "stream",
     "text": [
      "<ipython-input-28-54a606abcca5>:4: FutureWarning: Indexing with multiple keys (implicitly converted to a tuple of keys) will be deprecated, use a list instead.\n",
      "  g2_summary=g2.groupby(by=[\"commit\",\"group\"])[\"dac_count\",\"non_dac_count\"].describe()\n"
     ]
    }
   ],
   "source": [
    "sql_g2[\"group\"]=\"SQL\"\n",
    "nsql_g2[\"group\"]=\"NoSQL\"\n",
    "g2=pd.concat([sql_g2, nsql_g2])\n",
    "g2_summary=g2.groupby(by=[\"commit\",\"group\"])[\"dac_count\",\"non_dac_count\"].describe()\n",
    "g2_summary.to_excel(\"g2_summary.xls\")"
   ]
  },
  {
   "cell_type": "code",
   "execution_count": 29,
   "metadata": {},
   "outputs": [
    {
     "name": "stderr",
     "output_type": "stream",
     "text": [
      "<ipython-input-29-1da864bca289>:3: FutureWarning: Indexing with multiple keys (implicitly converted to a tuple of keys) will be deprecated, use a list instead.\n",
      "  g3_summary=sql_g3.groupby(by=[\"commit\",\"group\"])[\"dac_count\",\"non_dac_count\"].describe()\n"
     ]
    }
   ],
   "source": [
    "sql_g3[\"group\"]=\"SQL\"\n",
    "\n",
    "g3_summary=sql_g3.groupby(by=[\"commit\",\"group\"])[\"dac_count\",\"non_dac_count\"].describe()\n",
    "g3_summary.to_excel(\"g3_summary.xls\")"
   ]
  },
  {
   "cell_type": "code",
   "execution_count": 14,
   "metadata": {},
   "outputs": [
    {
     "name": "stdout",
     "output_type": "stream",
     "text": [
      "SQL-g1-dac\n",
      "count     72.000000\n",
      "mean      24.736111\n",
      "std       60.571920\n",
      "min        0.000000\n",
      "25%        0.750000\n",
      "50%        2.000000\n",
      "75%       14.250000\n",
      "max      380.000000\n",
      "Name: dac_count, dtype: float64\n",
      "SQL-g1-Non-DAC\n",
      "count     72.000000\n",
      "mean      56.194444\n",
      "std       78.043440\n",
      "min        1.000000\n",
      "25%       12.000000\n",
      "50%       23.500000\n",
      "75%       64.000000\n",
      "max      412.000000\n",
      "Name: non_dac_count, dtype: float64\n"
     ]
    }
   ],
   "source": [
    "#Group 1, dac, non-dac for sql\n",
    "print(\"SQL-g1-dac\")\n",
    "print(sql_g1[\"dac_count\"].describe())\n",
    "print(\"SQL-g1-Non-DAC\")\n",
    "print(sql_g1[\"non_dac_count\"].describe())"
   ]
  },
  {
   "cell_type": "code",
   "execution_count": 15,
   "metadata": {},
   "outputs": [
    {
     "name": "stdout",
     "output_type": "stream",
     "text": [
      "NSQL-g1-dac\n",
      "count     43.000000\n",
      "mean      11.558140\n",
      "std       23.722907\n",
      "min        0.000000\n",
      "25%        0.000000\n",
      "50%        2.000000\n",
      "75%       15.000000\n",
      "max      129.000000\n",
      "Name: dac_count, dtype: float64\n",
      "NSQL-g1-Non-DAC\n",
      "count     43.000000\n",
      "mean      72.069767\n",
      "std      110.260168\n",
      "min        0.000000\n",
      "25%        7.000000\n",
      "50%       26.000000\n",
      "75%       84.000000\n",
      "max      477.000000\n",
      "Name: non_dac_count, dtype: float64\n"
     ]
    }
   ],
   "source": [
    "print(\"NSQL-g1-dac\")\n",
    "print(nsql_g1[\"dac_count\"].describe())\n",
    "print(\"NSQL-g1-Non-DAC\")\n",
    "print(nsql_g1[\"non_dac_count\"].describe())"
   ]
  },
  {
   "cell_type": "code",
   "execution_count": 16,
   "metadata": {},
   "outputs": [
    {
     "name": "stdout",
     "output_type": "stream",
     "text": [
      "SQL-g2-dac\n",
      "count    176.000000\n",
      "mean      21.551136\n",
      "std       78.659684\n",
      "min        0.000000\n",
      "25%        0.000000\n",
      "50%        1.000000\n",
      "75%        6.000000\n",
      "max      588.000000\n",
      "Name: dac_count, dtype: float64\n",
      "SQL-g2-Non-DAC\n",
      "count     176.000000\n",
      "mean      126.585227\n",
      "std       179.690094\n",
      "min         1.000000\n",
      "25%        24.000000\n",
      "50%        47.000000\n",
      "75%       179.250000\n",
      "max      1015.000000\n",
      "Name: non_dac_count, dtype: float64\n"
     ]
    }
   ],
   "source": [
    "#Group 2, dac non-dac, for sql\n",
    "print(\"SQL-g2-dac\")\n",
    "print(sql_g2[\"dac_count\"].describe())\n",
    "print(\"SQL-g2-Non-DAC\")\n",
    "print(sql_g2[\"non_dac_count\"].describe())"
   ]
  },
  {
   "cell_type": "code",
   "execution_count": 17,
   "metadata": {},
   "outputs": [
    {
     "name": "stdout",
     "output_type": "stream",
     "text": [
      "NSQL-g2-dac\n",
      "count    25.000000\n",
      "mean      7.400000\n",
      "std      12.257651\n",
      "min       0.000000\n",
      "25%       0.000000\n",
      "50%       3.000000\n",
      "75%       8.000000\n",
      "max      56.000000\n",
      "Name: dac_count, dtype: float64\n",
      "NSQL-g2-Non-DAC\n",
      "count    25.000000\n",
      "mean     28.440000\n",
      "std      26.616223\n",
      "min       0.000000\n",
      "25%       6.000000\n",
      "50%      20.000000\n",
      "75%      46.000000\n",
      "max      91.000000\n",
      "Name: non_dac_count, dtype: float64\n"
     ]
    }
   ],
   "source": [
    "#Group 2, dac non-dac, for Nsql\n",
    "print(\"NSQL-g2-dac\")\n",
    "print(nsql_g2[\"dac_count\"].describe())\n",
    "print(\"NSQL-g2-Non-DAC\")\n",
    "print(nsql_g2[\"non_dac_count\"].describe())"
   ]
  },
  {
   "cell_type": "code",
   "execution_count": 18,
   "metadata": {},
   "outputs": [
    {
     "name": "stdout",
     "output_type": "stream",
     "text": [
      "SQL-g3-dac\n",
      "count     53.000000\n",
      "mean      27.905660\n",
      "std       92.782057\n",
      "min        0.000000\n",
      "25%        0.000000\n",
      "50%        0.000000\n",
      "75%        8.000000\n",
      "max      519.000000\n",
      "Name: dac_count, dtype: float64\n",
      "SQL-g3-Non-DAC\n",
      "count      53.000000\n",
      "mean      331.660377\n",
      "std       454.131417\n",
      "min         4.000000\n",
      "25%        68.000000\n",
      "50%       180.000000\n",
      "75%       378.000000\n",
      "max      2263.000000\n",
      "Name: non_dac_count, dtype: float64\n"
     ]
    }
   ],
   "source": [
    "#Group 3, dac non-dac, for sql\n",
    "print(\"SQL-g3-dac\")\n",
    "print(sql_g3[\"dac_count\"].describe())\n",
    "print(\"SQL-g3-Non-DAC\")\n",
    "print(sql_g3[\"non_dac_count\"].describe())"
   ]
  },
  {
   "cell_type": "code",
   "execution_count": null,
   "metadata": {},
   "outputs": [],
   "source": []
  }
 ],
 "metadata": {
  "kernelspec": {
   "display_name": "Python 3",
   "language": "python",
   "name": "python3"
  },
  "language_info": {
   "codemirror_mode": {
    "name": "ipython",
    "version": 3
   },
   "file_extension": ".py",
   "mimetype": "text/x-python",
   "name": "python",
   "nbconvert_exporter": "python",
   "pygments_lexer": "ipython3",
   "version": "3.8.5"
  }
 },
 "nbformat": 4,
 "nbformat_minor": 4
}
